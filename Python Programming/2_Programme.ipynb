{
 "cells": [
  {
   "cell_type": "code",
   "execution_count": 1,
   "metadata": {},
   "outputs": [
    {
     "name": "stdout",
     "output_type": "stream",
     "text": [
      "My name is Namrata. I study in MSIT college. My roll no is 14200322016\n"
     ]
    }
   ],
   "source": [
    "class Name:\n",
    "    def main():\n",
    "        a=6\n",
    "        b=\"MSIT\"\n",
    "        c=\"Namrata\"\n",
    "        d=\"ECE\"\n",
    "        e=14200322016\n",
    "        final=\"My name is {2}. I study in {1} college. My roll no is {4}\"\n",
    "        abc=final.format(a,b,c,d,e)\n",
    "        print(abc)\n",
    "Name.main()\n",
    "        "
   ]
  }
 ],
 "metadata": {
  "kernelspec": {
   "display_name": "Python 3",
   "language": "python",
   "name": "python3"
  },
  "language_info": {
   "codemirror_mode": {
    "name": "ipython",
    "version": 3
   },
   "file_extension": ".py",
   "mimetype": "text/x-python",
   "name": "python",
   "nbconvert_exporter": "python",
   "pygments_lexer": "ipython3",
   "version": "3.11.4"
  },
  "orig_nbformat": 4
 },
 "nbformat": 4,
 "nbformat_minor": 2
}
